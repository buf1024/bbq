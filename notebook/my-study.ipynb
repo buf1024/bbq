{
 "cells": [
  {
   "cell_type": "code",
   "execution_count": 1,
   "metadata": {},
   "outputs": [],
   "source": [
    "from bbq import *\n",
    "\n",
    "fund, stock, mysql = default(log_level='error')\n",
    "\n",
    "df = mysql.execute(\"select a.name, b.code, b.trade_date, b.close, b.open, b.high, b.low, b.volume, b.turnover, b.hfq_factor \"\n",
    "                   \"from stock_info a left join stock_daily b on a.code = b.code \"\n",
    "                   \"where a.code = 'sh600519' order by b.trade_date desc limit 60\",\n",
    "                   DataFrame())\n",
    "df = df.sort_values(by='trade_date', ascending=True)\n"
   ]
  },
  {
   "cell_type": "code",
   "execution_count": 2,
   "metadata": {},
   "outputs": [],
   "source": [
    "from bbq.selector import strategies, intro\n"
   ]
  },
  {
   "cell_type": "code",
   "execution_count": 3,
   "metadata": {},
   "outputs": [
    {
     "data": {
      "text/html": [
       "<style  type=\"text/css\" >\n",
       "#T_a0d4a55c_6490_11ec_b6d8_186590d57a6brow0_col0,#T_a0d4a55c_6490_11ec_b6d8_186590d57a6brow0_col1,#T_a0d4a55c_6490_11ec_b6d8_186590d57a6brow1_col0,#T_a0d4a55c_6490_11ec_b6d8_186590d57a6brow1_col1,#T_a0d4a55c_6490_11ec_b6d8_186590d57a6brow2_col0,#T_a0d4a55c_6490_11ec_b6d8_186590d57a6brow2_col1,#T_a0d4a55c_6490_11ec_b6d8_186590d57a6brow3_col0,#T_a0d4a55c_6490_11ec_b6d8_186590d57a6brow3_col1,#T_a0d4a55c_6490_11ec_b6d8_186590d57a6brow4_col0,#T_a0d4a55c_6490_11ec_b6d8_186590d57a6brow4_col1,#T_a0d4a55c_6490_11ec_b6d8_186590d57a6brow5_col0,#T_a0d4a55c_6490_11ec_b6d8_186590d57a6brow5_col1,#T_a0d4a55c_6490_11ec_b6d8_186590d57a6brow6_col0,#T_a0d4a55c_6490_11ec_b6d8_186590d57a6brow6_col1{\n",
       "            text-align:  left;\n",
       "            white-space:  pre-wrap;\n",
       "        }</style><table id=\"T_a0d4a55c_6490_11ec_b6d8_186590d57a6b\" ><thead>    <tr>        <th class=\"blank level0\" ></th>        <th class=\"col_heading level0 col0\" >name</th>        <th class=\"col_heading level0 col1\" >doc</th>    </tr></thead><tbody>\n",
       "                <tr>\n",
       "                        <th id=\"T_a0d4a55c_6490_11ec_b6d8_186590d57a6blevel0_row0\" class=\"row_heading level0 row0\" >0</th>\n",
       "                        <td id=\"T_a0d4a55c_6490_11ec_b6d8_186590d57a6brow0_col0\" class=\"data row0 col0\" >test.TopCode</td>\n",
       "                        <td id=\"T_a0d4a55c_6490_11ec_b6d8_186590d57a6brow0_col1\" class=\"data row0 col1\" >  名称: 龙头选股策略(基于日线)\n",
       "  说明: 选择上涨趋势的选股\n",
       "  参数: select_count  -- 选择个数(默认20)\n",
       "        days -- 最近交易天数(默认: 30)\n",
       "        min_days -- 最小上市天数(默认: 10)\n",
       "        coef -- 线性拟合系数(默认: None)\n",
       "        score -- 线性拟合度(默认: None)\n",
       "        sort_by -- 结果排序字段(默认: None, 即: score)</td>\n",
       "            </tr>\n",
       "            <tr>\n",
       "                        <th id=\"T_a0d4a55c_6490_11ec_b6d8_186590d57a6blevel0_row1\" class=\"row_heading level0 row1\" >1</th>\n",
       "                        <td id=\"T_a0d4a55c_6490_11ec_b6d8_186590d57a6brow1_col0\" class=\"data row1 col0\" >test.AntClimbTree</td>\n",
       "                        <td id=\"T_a0d4a55c_6490_11ec_b6d8_186590d57a6brow1_col1\" class=\"data row1 col1\" >  名称: 蚂蚁上树形态(变形)策略\n",
       "  说明: 前n日，找出成交量最大而且是上涨的一天，右侧m天上涨或下跌平缓(成交量减少)，左侧x天持续上涨y%\n",
       "  参数: end_time -- 计算开始时间(默认当天)\n",
       "        test_days -- 计算往前推的交易日(默认30)\n",
       "        left_up -- 左侧默认上涨幅度(默认0.1)\n",
       "        right_min_days -- 右侧计算最小天数(默认3)\n",
       "        right_max_days -- 右侧计算最大天数(默认10)\n",
       "        right_max_up -- 右侧计算最大上涨(默认0.02)\n",
       "        right_max_down -- 右侧计算最大下跌(默认0.01)</td>\n",
       "            </tr>\n",
       "            <tr>\n",
       "                        <th id=\"T_a0d4a55c_6490_11ec_b6d8_186590d57a6blevel0_row2\" class=\"row_heading level0 row2\" >2</th>\n",
       "                        <td id=\"T_a0d4a55c_6490_11ec_b6d8_186590d57a6brow2_col0\" class=\"data row2 col0\" >test.FundHighDiv</td>\n",
       "                        <td id=\"T_a0d4a55c_6490_11ec_b6d8_186590d57a6brow2_col1\" class=\"data row2 col1\" >  名称: 高分红选基金策略\n",
       "  说明: 选择高分红高的基金\n",
       "  参数: year -- 分红年份(默认: 当前年)\n",
       "        min_rate -- 分红比例(默认: 5)\n",
       "        min_count -- 分红次数(默认: 2)\n",
       "        sort_by -- 结果排序字段(默认: None, 即: rate, rate/count)</td>\n",
       "            </tr>\n",
       "            <tr>\n",
       "                        <th id=\"T_a0d4a55c_6490_11ec_b6d8_186590d57a6blevel0_row3\" class=\"row_heading level0 row3\" >3</th>\n",
       "                        <td id=\"T_a0d4a55c_6490_11ec_b6d8_186590d57a6brow3_col0\" class=\"data row3 col0\" >test.RandCode</td>\n",
       "                        <td id=\"T_a0d4a55c_6490_11ec_b6d8_186590d57a6brow3_col1\" class=\"data row3 col1\" >  名称: 随机策略\n",
       "  说明: 随机选股测试策略\n",
       "  参数: select_count  -- 选择个数(默认20)\n",
       "        market -- 选择品种(值为: fund 或 stock, 默认stock)</td>\n",
       "            </tr>\n",
       "            <tr>\n",
       "                        <th id=\"T_a0d4a55c_6490_11ec_b6d8_186590d57a6blevel0_row4\" class=\"row_heading level0 row4\" >4</th>\n",
       "                        <td id=\"T_a0d4a55c_6490_11ec_b6d8_186590d57a6brow4_col0\" class=\"data row4 col0\" >test.RightSide</td>\n",
       "                        <td id=\"T_a0d4a55c_6490_11ec_b6d8_186590d57a6brow4_col1\" class=\"data row4 col1\" >  名称: 右侧选股(基于日线)\n",
       "  说明: 选择右侧上涨的选股\n",
       "  参数: select_count  -- 选择个数(默认20)\n",
       "        min_trade_days -- 最小上市天数(默认: 60)\n",
       "        min_con_days -- 最近最小连续上涨天数(默认: 3)\n",
       "        max_con_down -- 视为上涨最大下跌百分比(默认: -1.0)\n",
       "        max_con_up -- 视为上涨最大上涨百分比(默认: 20.0)\n",
       "        judge_days -- judge_days内judge_days_up天数(默认: 20)\n",
       "        judge_days_up -- 最近judge_days内上涨百分比(默认: 15)\n",
       "        sort_by -- 排序(默认: None, close -- 现价, rise -- 阶段涨幅)</td>\n",
       "            </tr>\n",
       "            <tr>\n",
       "                        <th id=\"T_a0d4a55c_6490_11ec_b6d8_186590d57a6blevel0_row5\" class=\"row_heading level0 row5\" >5</th>\n",
       "                        <td id=\"T_a0d4a55c_6490_11ec_b6d8_186590d57a6brow5_col0\" class=\"data row5 col0\" >test.StockNewFresh</td>\n",
       "                        <td id=\"T_a0d4a55c_6490_11ec_b6d8_186590d57a6brow5_col1\" class=\"data row5 col1\" >  名称: 次新股板块策略\n",
       "  说明: 第一次新高后，根据新低反弹情况选股\n",
       "  参数: trade_date -- 上市交易最多天数(默认60)\n",
       "        low_max_date -- 首低后最多交易天数(默认10)\n",
       "        first_up -- 上市后默认上涨天数(默认2)        ratio_up -- 首低后涨跌比(默认0.5)</td>\n",
       "            </tr>\n",
       "            <tr>\n",
       "                        <th id=\"T_a0d4a55c_6490_11ec_b6d8_186590d57a6blevel0_row6\" class=\"row_heading level0 row6\" >6</th>\n",
       "                        <td id=\"T_a0d4a55c_6490_11ec_b6d8_186590d57a6brow6_col0\" class=\"data row6 col0\" >test.FundTopCode</td>\n",
       "                        <td id=\"T_a0d4a55c_6490_11ec_b6d8_186590d57a6brow6_col1\" class=\"data row6 col1\" >  名称: 龙头选基金策略(基于净值)\n",
       "  说明: 选择上涨趋势的选股\n",
       "  参数: days -- 最近交易天数(默认: 30)\n",
       "        min_days -- 最小净值天数(默认: 10)\n",
       "        coef -- 线性拟合系数(默认: None)\n",
       "        score -- 线性拟合度(默认: None)\n",
       "        sort_by -- 结果排序字段(默认: None, 即: score)</td>\n",
       "            </tr>\n",
       "    </tbody></table>"
      ],
      "text/plain": [
       "<pandas.io.formats.style.Styler at 0x129bfd4c0>"
      ]
     },
     "metadata": {},
     "output_type": "display_data"
    }
   ],
   "source": [
    "pretty_print(intro('right'))"
   ]
  },
  {
   "cell_type": "code",
   "execution_count": 11,
   "metadata": {},
   "outputs": [],
   "source": []
  },
  {
   "cell_type": "code",
   "execution_count": 10,
   "metadata": {},
   "outputs": [
    {
     "data": {
      "text/plain": [
       "{'test.TopCode': bbq.selector.strategy.test.top_code.TopCode,\n",
       " 'test.AntClimbTree': bbq.selector.strategy.test.ant_climb_tree.AntClimbTree,\n",
       " 'test.FundHighDiv': bbq.selector.strategy.test.fund_high_div.FundHighDiv,\n",
       " 'test.RandCode': bbq.selector.strategy.test.rand_code.RandCode,\n",
       " 'test.RightSide': bbq.selector.strategy.test.right_side.RightSide,\n",
       " 'test.StockNewFresh': bbq.selector.strategy.test.stock_new_fresh.StockNewFresh,\n",
       " 'test.FundTopCode': bbq.selector.strategy.test.fund_top_code.FundTopCode}"
      ]
     },
     "execution_count": 10,
     "metadata": {},
     "output_type": "execute_result"
    }
   ],
   "source": [
    "strategies\n"
   ]
  },
  {
   "cell_type": "code",
   "execution_count": 11,
   "metadata": {},
   "outputs": [
    {
     "data": {
      "text/plain": [
       "dict"
      ]
     },
     "execution_count": 11,
     "metadata": {},
     "output_type": "execute_result"
    }
   ],
   "source": [
    "type(strategies)"
   ]
  },
  {
   "cell_type": "code",
   "execution_count": 12,
   "metadata": {},
   "outputs": [
    {
     "ename": "AttributeError",
     "evalue": "'dict' object has no attribute 'helpme'",
     "output_type": "error",
     "traceback": [
      "\u001b[0;31m---------------------------------------------------------------------------\u001b[0m",
      "\u001b[0;31mAttributeError\u001b[0m                            Traceback (most recent call last)",
      "\u001b[0;32m<ipython-input-12-66e1cb4e4636>\u001b[0m in \u001b[0;36m<module>\u001b[0;34m\u001b[0m\n\u001b[1;32m      1\u001b[0m \u001b[0;32mdef\u001b[0m \u001b[0mhelp\u001b[0m\u001b[0;34m(\u001b[0m\u001b[0;34m)\u001b[0m\u001b[0;34m:\u001b[0m\u001b[0;34m\u001b[0m\u001b[0;34m\u001b[0m\u001b[0m\n\u001b[1;32m      2\u001b[0m     \u001b[0mprint\u001b[0m\u001b[0;34m(\u001b[0m\u001b[0;34m'abc'\u001b[0m\u001b[0;34m)\u001b[0m\u001b[0;34m\u001b[0m\u001b[0;34m\u001b[0m\u001b[0m\n\u001b[0;32m----> 3\u001b[0;31m \u001b[0msetattr\u001b[0m\u001b[0;34m(\u001b[0m\u001b[0mstrategies\u001b[0m\u001b[0;34m,\u001b[0m \u001b[0;34m'helpme'\u001b[0m\u001b[0;34m,\u001b[0m \u001b[0mhelp\u001b[0m\u001b[0;34m)\u001b[0m\u001b[0;34m\u001b[0m\u001b[0;34m\u001b[0m\u001b[0m\n\u001b[0m",
      "\u001b[0;31mAttributeError\u001b[0m: 'dict' object has no attribute 'helpme'"
     ]
    }
   ],
   "source": [
    "def help():\n",
    "    print('abc')\n",
    "setattr(strategies, 'helpme', help)"
   ]
  },
  {
   "cell_type": "code",
   "execution_count": null,
   "metadata": {},
   "outputs": [],
   "source": []
  }
 ],
 "metadata": {
  "kernelspec": {
   "display_name": "Python 3",
   "language": "python",
   "name": "python3"
  },
  "language_info": {
   "codemirror_mode": {
    "name": "ipython",
    "version": 3
   },
   "file_extension": ".py",
   "mimetype": "text/x-python",
   "name": "python",
   "nbconvert_exporter": "python",
   "pygments_lexer": "ipython3",
   "version": "3.9.0"
  }
 },
 "nbformat": 4,
 "nbformat_minor": 4
}
