{
 "cells": [
  {
   "cell_type": "code",
   "execution_count": 1,
   "metadata": {},
   "outputs": [
    {
     "data": {
      "text/plain": [
       "True"
      ]
     },
     "execution_count": 1,
     "metadata": {},
     "output_type": "execute_result"
    }
   ],
   "source": [
    "from bbq.analyse import *\n",
    "import pandas as pd\n",
    "from datetime import datetime, timedelta\n",
    "from talib.abstract import *\n",
    "import talib\n",
    "from bbq.data.stockdb import StockDB\n",
    "from bbq.data.funddb import FundDB\n",
    "from pyecharts.charts import *\n",
    "from pyecharts import options as opts\n",
    "from pyecharts.commons.utils import JsCode\n",
    "import json\n",
    "import scipy.signal as signal\n",
    "from sklearn.linear_model import LinearRegression\n",
    "import numpy as np\n",
    "from bbq.analyse.tools import *\n",
    "from bbq.analyse.plot import *\n",
    "import bbq.log as log\n",
    "from bbq.selector.strategy import strategies\n",
    "\n",
    "log.setup_logger(level='error')\n",
    "\n",
    "db_stock = StockDB()\n",
    "db_fund = FundDB()\n",
    "db_stock.init()\n",
    "db_fund.init()\n",
    "\n"
   ]
  },
  {
   "cell_type": "code",
   "execution_count": 2,
   "metadata": {},
   "outputs": [
    {
     "data": {
      "text/plain": [
       "True"
      ]
     },
     "execution_count": 2,
     "metadata": {},
     "output_type": "execute_result"
    }
   ],
   "source": [
    "inst = strategies['test.TopFund'](db=db_fund)\n",
    "await inst.init()"
   ]
  },
  {
   "cell_type": "code",
   "execution_count": 3,
   "metadata": {},
   "outputs": [
    {
     "name": "stderr",
     "output_type": "stream",
     "text": [
      "处理 001230: 100%|██████████| 370/370 [00:06<00:00, 58.08it/s]\n"
     ]
    },
    {
     "name": "stdout",
     "output_type": "stream",
     "text": [
      "done\n"
     ]
    },
    {
     "data": {
      "text/html": [
       "<div>\n",
       "<style scoped>\n",
       "    .dataframe tbody tr th:only-of-type {\n",
       "        vertical-align: middle;\n",
       "    }\n",
       "\n",
       "    .dataframe tbody tr th {\n",
       "        vertical-align: top;\n",
       "    }\n",
       "\n",
       "    .dataframe thead th {\n",
       "        text-align: right;\n",
       "    }\n",
       "</style>\n",
       "<table border=\"1\" class=\"dataframe\">\n",
       "  <thead>\n",
       "    <tr style=\"text-align: right;\">\n",
       "      <th></th>\n",
       "      <th>coef</th>\n",
       "      <th>score</th>\n",
       "      <th>rise</th>\n",
       "      <th>code</th>\n",
       "      <th>name</th>\n",
       "    </tr>\n",
       "  </thead>\n",
       "  <tbody>\n",
       "    <tr>\n",
       "      <th>0</th>\n",
       "      <td>0.0038</td>\n",
       "      <td>0.9799</td>\n",
       "      <td>3.69</td>\n",
       "      <td>001111</td>\n",
       "      <td>中欧瑾泉灵活配置混合C</td>\n",
       "    </tr>\n",
       "    <tr>\n",
       "      <th>1</th>\n",
       "      <td>0.0049</td>\n",
       "      <td>0.9798</td>\n",
       "      <td>3.69</td>\n",
       "      <td>001110</td>\n",
       "      <td>中欧瑾泉灵活配置混合A</td>\n",
       "    </tr>\n",
       "    <tr>\n",
       "      <th>2</th>\n",
       "      <td>0.0014</td>\n",
       "      <td>0.9788</td>\n",
       "      <td>1.68</td>\n",
       "      <td>001136</td>\n",
       "      <td>易方达裕如混合</td>\n",
       "    </tr>\n",
       "    <tr>\n",
       "      <th>3</th>\n",
       "      <td>0.0037</td>\n",
       "      <td>0.9755</td>\n",
       "      <td>3.40</td>\n",
       "      <td>001146</td>\n",
       "      <td>中欧瑾源灵活配置混合A</td>\n",
       "    </tr>\n",
       "    <tr>\n",
       "      <th>4</th>\n",
       "      <td>0.0034</td>\n",
       "      <td>0.9753</td>\n",
       "      <td>3.39</td>\n",
       "      <td>001147</td>\n",
       "      <td>中欧瑾源灵活配置混合C</td>\n",
       "    </tr>\n",
       "    <tr>\n",
       "      <th>...</th>\n",
       "      <td>...</td>\n",
       "      <td>...</td>\n",
       "      <td>...</td>\n",
       "      <td>...</td>\n",
       "      <td>...</td>\n",
       "    </tr>\n",
       "    <tr>\n",
       "      <th>361</th>\n",
       "      <td>0.0002</td>\n",
       "      <td>0.0592</td>\n",
       "      <td>-0.08</td>\n",
       "      <td>000672</td>\n",
       "      <td>工银绝对收益混合发起B</td>\n",
       "    </tr>\n",
       "    <tr>\n",
       "      <th>362</th>\n",
       "      <td>0.0008</td>\n",
       "      <td>0.0440</td>\n",
       "      <td>1.36</td>\n",
       "      <td>001120</td>\n",
       "      <td>东方睿鑫热点挖掘混合A</td>\n",
       "    </tr>\n",
       "    <tr>\n",
       "      <th>363</th>\n",
       "      <td>0.0007</td>\n",
       "      <td>0.0403</td>\n",
       "      <td>1.29</td>\n",
       "      <td>001121</td>\n",
       "      <td>东方睿鑫热点挖掘混合C</td>\n",
       "    </tr>\n",
       "    <tr>\n",
       "      <th>364</th>\n",
       "      <td>0.0002</td>\n",
       "      <td>0.0036</td>\n",
       "      <td>3.02</td>\n",
       "      <td>000963</td>\n",
       "      <td>兴业多策略混合</td>\n",
       "    </tr>\n",
       "    <tr>\n",
       "      <th>365</th>\n",
       "      <td>-0.0000</td>\n",
       "      <td>0.0026</td>\n",
       "      <td>0.91</td>\n",
       "      <td>000398</td>\n",
       "      <td>华富灵活配置混合</td>\n",
       "    </tr>\n",
       "  </tbody>\n",
       "</table>\n",
       "<p>366 rows × 5 columns</p>\n",
       "</div>"
      ],
      "text/plain": [
       "       coef   score  rise    code         name\n",
       "0    0.0038  0.9799  3.69  001111  中欧瑾泉灵活配置混合C\n",
       "1    0.0049  0.9798  3.69  001110  中欧瑾泉灵活配置混合A\n",
       "2    0.0014  0.9788  1.68  001136      易方达裕如混合\n",
       "3    0.0037  0.9755  3.40  001146  中欧瑾源灵活配置混合A\n",
       "4    0.0034  0.9753  3.39  001147  中欧瑾源灵活配置混合C\n",
       "..      ...     ...   ...     ...          ...\n",
       "361  0.0002  0.0592 -0.08  000672  工银绝对收益混合发起B\n",
       "362  0.0008  0.0440  1.36  001120  东方睿鑫热点挖掘混合A\n",
       "363  0.0007  0.0403  1.29  001121  东方睿鑫热点挖掘混合C\n",
       "364  0.0002  0.0036  3.02  000963      兴业多策略混合\n",
       "365 -0.0000  0.0026  0.91  000398     华富灵活配置混合\n",
       "\n",
       "[366 rows x 5 columns]"
      ]
     },
     "execution_count": 3,
     "metadata": {},
     "output_type": "execute_result"
    }
   ],
   "source": [
    "await inst.select()"
   ]
  },
  {
   "cell_type": "code",
   "execution_count": 8,
   "metadata": {},
   "outputs": [],
   "source": [
    "data = await db_fund.load_fund_net(limit=1, sort=[('trade_date', -1)])"
   ]
  },
  {
   "cell_type": "code",
   "execution_count": 12,
   "metadata": {},
   "outputs": [
    {
     "data": {
      "text/plain": [
       "1"
      ]
     },
     "execution_count": 12,
     "metadata": {},
     "output_type": "execute_result"
    }
   ],
   "source": [
    "data.iloc[0]['trade_date'].month"
   ]
  },
  {
   "cell_type": "code",
   "execution_count": null,
   "metadata": {},
   "outputs": [],
   "source": []
  }
 ],
 "metadata": {
  "kernelspec": {
   "display_name": "Python 3",
   "language": "python",
   "name": "python3"
  },
  "language_info": {
   "codemirror_mode": {
    "name": "ipython",
    "version": 3
   },
   "file_extension": ".py",
   "mimetype": "text/x-python",
   "name": "python",
   "nbconvert_exporter": "python",
   "pygments_lexer": "ipython3",
   "version": "3.9.0"
  }
 },
 "nbformat": 4,
 "nbformat_minor": 4
}
