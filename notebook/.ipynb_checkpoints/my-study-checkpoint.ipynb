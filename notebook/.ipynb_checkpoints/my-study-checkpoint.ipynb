{
 "cells": [
  {
   "cell_type": "code",
   "execution_count": 1,
   "metadata": {},
   "outputs": [
    {
     "data": {
      "text/plain": [
       "True"
      ]
     },
     "execution_count": 1,
     "metadata": {},
     "output_type": "execute_result"
    }
   ],
   "source": [
    "from bbq.analyse import *\n",
    "import pandas as pd\n",
    "from datetime import datetime, timedelta\n",
    "from talib.abstract import *\n",
    "import talib\n",
    "from bbq.data.stockdb import StockDB\n",
    "from bbq.data.funddb import FundDB\n",
    "from pyecharts.charts import *\n",
    "from pyecharts import options as opts\n",
    "from pyecharts.commons.utils import JsCode\n",
    "import json\n",
    "import scipy.signal as signal\n",
    "from sklearn.linear_model import LinearRegression\n",
    "import numpy as np\n",
    "from bbq.analyse.tools import *\n",
    "from bbq.analyse.plot import *\n",
    "import bbq.log as log\n",
    "from bbq.selector.strategy import strategies\n",
    "\n",
    "log.setup_logger(level='error')\n",
    "\n",
    "db_stock = StockDB()\n",
    "db_fund = FundDB()\n",
    "db_stock.init()\n",
    "db_fund.init()\n",
    "\n"
   ]
  },
  {
   "cell_type": "code",
   "execution_count": 2,
   "metadata": {},
   "outputs": [
    {
     "data": {
      "text/plain": [
       "True"
      ]
     },
     "execution_count": 2,
     "metadata": {},
     "output_type": "execute_result"
    }
   ],
   "source": [
    "inst = strategies['test.TopFund'](db=db_fund)\n",
    "await inst.init()"
   ]
  },
  {
   "cell_type": "code",
   "execution_count": 3,
   "metadata": {},
   "outputs": [
    {
     "name": "stderr",
     "output_type": "stream",
     "text": [
      "2021-01-18 17:56:12,434 - FundDB - DEBUG - 加载基金列表, kwargs={'filter': {'type': {'$in': ['ETF-场内', '混合-FOF', '混合型', '联接基金', '股票-FOF', '股票型', '股票指数']}}, 'projection': ['code', 'name']}\n",
      "2021-01-18 17:56:12,558 - FundDB - DEBUG - 加载基金列表成功, size=6919\n",
      "处理 华夏盛世混合:   0%|          | 0/6919 [00:00<?, ?it/s]2021-01-18 17:56:12,600 - FundDB - DEBUG - 加载基金净值数据, kwargs={'filter': {'code': '000061'}, 'limit': 30, 'sort': [('trade_date', -1)]}\n",
      "2021-01-18 17:56:12,998 - FundDB - DEBUG - 加载基金净值数据,成功, size=30\n",
      "处理 汇添富消费行业混合:   0%|          | 1/6919 [00:00<46:50,  2.46it/s]2021-01-18 17:56:13,011 - FundDB - DEBUG - 加载基金净值数据, kwargs={'filter': {'code': '000083'}, 'limit': 30, 'sort': [('trade_date', -1)]}\n",
      "2021-01-18 17:56:13,341 - FundDB - DEBUG - 加载基金净值数据,成功, size=30\n",
      "处理 嘉实中证500ETF联接A:   0%|          | 2/6919 [00:00<44:34,  2.59it/s]2021-01-18 17:56:13,347 - FundDB - DEBUG - 加载基金净值数据, kwargs={'filter': {'code': '000008'}, 'limit': 30, 'sort': [('trade_date', -1)]}\n",
      "2021-01-18 17:56:13,681 - FundDB - DEBUG - 加载基金净值数据,成功, size=30\n",
      "处理 中证财通可持续发展100指数A:   0%|          | 3/6919 [00:01<42:58,  2.68it/s]2021-01-18 17:56:13,688 - FundDB - DEBUG - 加载基金净值数据, kwargs={'filter': {'code': '000042'}, 'limit': 30, 'sort': [('trade_date', -1)]}\n",
      "2021-01-18 17:56:14,019 - FundDB - DEBUG - 加载基金净值数据,成功, size=30\n",
      "处理 华夏优势增长混合:   0%|          | 4/6919 [00:01<41:46,  2.76it/s]          2021-01-18 17:56:14,025 - FundDB - DEBUG - 加载基金净值数据, kwargs={'filter': {'code': '000021'}, 'limit': 30, 'sort': [('trade_date', -1)]}\n",
      "2021-01-18 17:56:15,440 - FundDB - DEBUG - 加载基金净值数据,成功, size=0\n",
      "处理 华夏优势增长混合:   0%|          | 4/6919 [00:02<1:21:55,  1.41it/s]\n"
     ]
    }
   ],
   "source": [
    "await inst.select()"
   ]
  },
  {
   "cell_type": "code",
   "execution_count": null,
   "metadata": {},
   "outputs": [],
   "source": []
  }
 ],
 "metadata": {
  "kernelspec": {
   "display_name": "Python 3",
   "language": "python",
   "name": "python3"
  },
  "language_info": {
   "codemirror_mode": {
    "name": "ipython",
    "version": 3
   },
   "file_extension": ".py",
   "mimetype": "text/x-python",
   "name": "python",
   "nbconvert_exporter": "python",
   "pygments_lexer": "ipython3",
   "version": "3.9.0"
  }
 },
 "nbformat": 4,
 "nbformat_minor": 4
}
